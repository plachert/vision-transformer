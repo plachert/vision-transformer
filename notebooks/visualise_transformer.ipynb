{
 "cells": [
  {
   "cell_type": "code",
   "execution_count": 15,
   "id": "b5c2e145-244b-4721-a80f-5157635648f2",
   "metadata": {},
   "outputs": [
    {
     "name": "stdout",
     "output_type": "stream",
     "text": [
      "Files already downloaded and verified\n",
      "Files already downloaded and verified\n"
     ]
    },
    {
     "name": "stderr",
     "output_type": "stream",
     "text": [
      "Global seed set to 42\n",
      "Global seed set to 42\n"
     ]
    },
    {
     "data": {
      "text/plain": [
       "torch.Size([1, 64, 48])"
      ]
     },
     "execution_count": 15,
     "metadata": {},
     "output_type": "execute_result"
    }
   ],
   "source": [
    "from src.model.classifier import ImageClassifier\n",
    "from src.model.architectures.visual_transformer import VisionTransformer\n",
    "import matplotlib.pyplot as plt\n",
    "import numpy as np\n",
    "import torch\n",
    "from src.data.datamodules import ImageNet100DataModule, CIFAR10DataModule\n",
    "\n",
    "from src.data.transform import Patchify\n",
    "from torchvision import transforms\n",
    "\n",
    "\n",
    "inference_transform = transforms.Compose([transforms.ToTensor(),\n",
    "                                     transforms.Normalize([0.49139968, 0.48215841, 0.44653091], [0.24703223, 0.24348513, 0.26158784]),\n",
    "                                     Patchify((4, 4)),\n",
    "                                     ])\n",
    "train_transform = transforms.Compose([transforms.RandomHorizontalFlip(),\n",
    "                                      transforms.RandomResizedCrop((32,32),scale=(0.8,1.0),ratio=(0.9,1.1)),\n",
    "                                      transforms.ToTensor(),\n",
    "                                      transforms.Normalize([0.49139968, 0.48215841, 0.44653091], [0.24703223, 0.24348513, 0.26158784]),\n",
    "                                      Patchify((4, 4)),\n",
    "                                     ])\n",
    "\n",
    "datamodule = CIFAR10DataModule(\n",
    "        train_batch_size=128,\n",
    "        val_batch_size=128,\n",
    "        train_transform=train_transform, \n",
    "        inference_transform=inference_transform\n",
    "    )\n",
    "datamodule.setup('fit')\n",
    "sample = torch.unsqueeze(datamodule.val_ds[0]['image'], 0)\n",
    "sample.shape"
   ]
  },
  {
   "cell_type": "code",
   "execution_count": 2,
   "id": "8c2a081f-5002-47f6-bb07-7b91aae0e43d",
   "metadata": {},
   "outputs": [],
   "source": [
    "m = VisionTransformer(\n",
    "        emb_dim=256, \n",
    "        flatten_patch_dim=4*4*3, \n",
    "        num_blocks=6, \n",
    "        num_heads=8, \n",
    "        num_patches=64, \n",
    "        num_classes=10, \n",
    "        dim_feedforward=512,\n",
    "        dropout=0.2,\n",
    "        )"
   ]
  },
  {
   "cell_type": "code",
   "execution_count": 3,
   "id": "f6da85d5-837e-4fbf-9592-d650a4b46f09",
   "metadata": {},
   "outputs": [
    {
     "data": {
      "text/plain": [
       "ImageClassifier(\n",
       "  (model): VisionTransformer(\n",
       "    (linear_projection): Linear(in_features=48, out_features=256, bias=True)\n",
       "    (pos_encoding): PositionalEncoding()\n",
       "    (class_token): ClassToken()\n",
       "    (transformer_encoder): TransformerEncoder(\n",
       "      (encode): Sequential(\n",
       "        (0): EncoderBlock(\n",
       "          (attn): MultiHeadAttention(\n",
       "            (q_transform): ModuleList(\n",
       "              (0-7): 8 x Linear(in_features=32, out_features=32, bias=False)\n",
       "            )\n",
       "            (k_transform): ModuleList(\n",
       "              (0-7): 8 x Linear(in_features=32, out_features=32, bias=False)\n",
       "            )\n",
       "            (v_transform): ModuleList(\n",
       "              (0-7): 8 x Linear(in_features=32, out_features=32, bias=False)\n",
       "            )\n",
       "            (scaled_attention): ScaledDotProductAttention()\n",
       "            (linear_projection): Linear(in_features=256, out_features=256, bias=True)\n",
       "          )\n",
       "          (feedforward): Sequential(\n",
       "            (0): Linear(in_features=256, out_features=512, bias=True)\n",
       "            (1): Dropout(p=0.2, inplace=False)\n",
       "            (2): GELU(approximate='none')\n",
       "            (3): Linear(in_features=512, out_features=256, bias=True)\n",
       "            (4): Dropout(p=0.2, inplace=False)\n",
       "          )\n",
       "          (norm_1): LayerNorm((256,), eps=1e-05, elementwise_affine=True)\n",
       "          (norm_2): LayerNorm((256,), eps=1e-05, elementwise_affine=True)\n",
       "        )\n",
       "        (1): EncoderBlock(\n",
       "          (attn): MultiHeadAttention(\n",
       "            (q_transform): ModuleList(\n",
       "              (0-7): 8 x Linear(in_features=32, out_features=32, bias=False)\n",
       "            )\n",
       "            (k_transform): ModuleList(\n",
       "              (0-7): 8 x Linear(in_features=32, out_features=32, bias=False)\n",
       "            )\n",
       "            (v_transform): ModuleList(\n",
       "              (0-7): 8 x Linear(in_features=32, out_features=32, bias=False)\n",
       "            )\n",
       "            (scaled_attention): ScaledDotProductAttention()\n",
       "            (linear_projection): Linear(in_features=256, out_features=256, bias=True)\n",
       "          )\n",
       "          (feedforward): Sequential(\n",
       "            (0): Linear(in_features=256, out_features=512, bias=True)\n",
       "            (1): Dropout(p=0.2, inplace=False)\n",
       "            (2): GELU(approximate='none')\n",
       "            (3): Linear(in_features=512, out_features=256, bias=True)\n",
       "            (4): Dropout(p=0.2, inplace=False)\n",
       "          )\n",
       "          (norm_1): LayerNorm((256,), eps=1e-05, elementwise_affine=True)\n",
       "          (norm_2): LayerNorm((256,), eps=1e-05, elementwise_affine=True)\n",
       "        )\n",
       "        (2): EncoderBlock(\n",
       "          (attn): MultiHeadAttention(\n",
       "            (q_transform): ModuleList(\n",
       "              (0-7): 8 x Linear(in_features=32, out_features=32, bias=False)\n",
       "            )\n",
       "            (k_transform): ModuleList(\n",
       "              (0-7): 8 x Linear(in_features=32, out_features=32, bias=False)\n",
       "            )\n",
       "            (v_transform): ModuleList(\n",
       "              (0-7): 8 x Linear(in_features=32, out_features=32, bias=False)\n",
       "            )\n",
       "            (scaled_attention): ScaledDotProductAttention()\n",
       "            (linear_projection): Linear(in_features=256, out_features=256, bias=True)\n",
       "          )\n",
       "          (feedforward): Sequential(\n",
       "            (0): Linear(in_features=256, out_features=512, bias=True)\n",
       "            (1): Dropout(p=0.2, inplace=False)\n",
       "            (2): GELU(approximate='none')\n",
       "            (3): Linear(in_features=512, out_features=256, bias=True)\n",
       "            (4): Dropout(p=0.2, inplace=False)\n",
       "          )\n",
       "          (norm_1): LayerNorm((256,), eps=1e-05, elementwise_affine=True)\n",
       "          (norm_2): LayerNorm((256,), eps=1e-05, elementwise_affine=True)\n",
       "        )\n",
       "        (3): EncoderBlock(\n",
       "          (attn): MultiHeadAttention(\n",
       "            (q_transform): ModuleList(\n",
       "              (0-7): 8 x Linear(in_features=32, out_features=32, bias=False)\n",
       "            )\n",
       "            (k_transform): ModuleList(\n",
       "              (0-7): 8 x Linear(in_features=32, out_features=32, bias=False)\n",
       "            )\n",
       "            (v_transform): ModuleList(\n",
       "              (0-7): 8 x Linear(in_features=32, out_features=32, bias=False)\n",
       "            )\n",
       "            (scaled_attention): ScaledDotProductAttention()\n",
       "            (linear_projection): Linear(in_features=256, out_features=256, bias=True)\n",
       "          )\n",
       "          (feedforward): Sequential(\n",
       "            (0): Linear(in_features=256, out_features=512, bias=True)\n",
       "            (1): Dropout(p=0.2, inplace=False)\n",
       "            (2): GELU(approximate='none')\n",
       "            (3): Linear(in_features=512, out_features=256, bias=True)\n",
       "            (4): Dropout(p=0.2, inplace=False)\n",
       "          )\n",
       "          (norm_1): LayerNorm((256,), eps=1e-05, elementwise_affine=True)\n",
       "          (norm_2): LayerNorm((256,), eps=1e-05, elementwise_affine=True)\n",
       "        )\n",
       "        (4): EncoderBlock(\n",
       "          (attn): MultiHeadAttention(\n",
       "            (q_transform): ModuleList(\n",
       "              (0-7): 8 x Linear(in_features=32, out_features=32, bias=False)\n",
       "            )\n",
       "            (k_transform): ModuleList(\n",
       "              (0-7): 8 x Linear(in_features=32, out_features=32, bias=False)\n",
       "            )\n",
       "            (v_transform): ModuleList(\n",
       "              (0-7): 8 x Linear(in_features=32, out_features=32, bias=False)\n",
       "            )\n",
       "            (scaled_attention): ScaledDotProductAttention()\n",
       "            (linear_projection): Linear(in_features=256, out_features=256, bias=True)\n",
       "          )\n",
       "          (feedforward): Sequential(\n",
       "            (0): Linear(in_features=256, out_features=512, bias=True)\n",
       "            (1): Dropout(p=0.2, inplace=False)\n",
       "            (2): GELU(approximate='none')\n",
       "            (3): Linear(in_features=512, out_features=256, bias=True)\n",
       "            (4): Dropout(p=0.2, inplace=False)\n",
       "          )\n",
       "          (norm_1): LayerNorm((256,), eps=1e-05, elementwise_affine=True)\n",
       "          (norm_2): LayerNorm((256,), eps=1e-05, elementwise_affine=True)\n",
       "        )\n",
       "        (5): EncoderBlock(\n",
       "          (attn): MultiHeadAttention(\n",
       "            (q_transform): ModuleList(\n",
       "              (0-7): 8 x Linear(in_features=32, out_features=32, bias=False)\n",
       "            )\n",
       "            (k_transform): ModuleList(\n",
       "              (0-7): 8 x Linear(in_features=32, out_features=32, bias=False)\n",
       "            )\n",
       "            (v_transform): ModuleList(\n",
       "              (0-7): 8 x Linear(in_features=32, out_features=32, bias=False)\n",
       "            )\n",
       "            (scaled_attention): ScaledDotProductAttention()\n",
       "            (linear_projection): Linear(in_features=256, out_features=256, bias=True)\n",
       "          )\n",
       "          (feedforward): Sequential(\n",
       "            (0): Linear(in_features=256, out_features=512, bias=True)\n",
       "            (1): Dropout(p=0.2, inplace=False)\n",
       "            (2): GELU(approximate='none')\n",
       "            (3): Linear(in_features=512, out_features=256, bias=True)\n",
       "            (4): Dropout(p=0.2, inplace=False)\n",
       "          )\n",
       "          (norm_1): LayerNorm((256,), eps=1e-05, elementwise_affine=True)\n",
       "          (norm_2): LayerNorm((256,), eps=1e-05, elementwise_affine=True)\n",
       "        )\n",
       "      )\n",
       "    )\n",
       "    (mlp_head): Sequential(\n",
       "      (0): LayerNorm((256,), eps=1e-05, elementwise_affine=True)\n",
       "      (1): Linear(in_features=256, out_features=10, bias=True)\n",
       "    )\n",
       "    (dropout): Dropout(p=0.2, inplace=False)\n",
       "  )\n",
       "  (loss): CrossEntropyLoss()\n",
       "  (train_acc): MulticlassAccuracy()\n",
       "  (val_acc): MulticlassAccuracy()\n",
       "  (test_acc): MulticlassAccuracy()\n",
       "  (train_loss): MeanMetric()\n",
       "  (val_loss): MeanMetric()\n",
       "  (test_loss): MeanMetric()\n",
       "  (val_acc_best): MaxMetric()\n",
       ")"
      ]
     },
     "execution_count": 3,
     "metadata": {},
     "output_type": "execute_result"
    }
   ],
   "source": [
    "mock_facktory = lambda x: x\n",
    "classifier = ImageClassifier.load_from_checkpoint(model=m, optimizer_factory=mock_facktory, num_classes=10, checkpoint_path=\"/home/piotr/github/vision-transformer/logs/lightning_logs/version_0/checkpoints/epoch=99-step=35200.ckpt\")\n",
    "classifier.eval()"
   ]
  },
  {
   "cell_type": "code",
   "execution_count": 4,
   "id": "f33557df-03e7-434f-87ef-3bfd15c96fed",
   "metadata": {},
   "outputs": [],
   "source": [
    "trained_vit = classifier.model"
   ]
  },
  {
   "cell_type": "code",
   "execution_count": 19,
   "id": "2578ee4f-c684-49f0-9f6c-e69fbe762ad2",
   "metadata": {},
   "outputs": [],
   "source": [
    "attention = trained_vit.get_attention(sample.to('cuda')).detach().cpu().numpy()"
   ]
  },
  {
   "cell_type": "code",
   "execution_count": 20,
   "id": "85eff838-96db-47ae-adb0-a02786f927b4",
   "metadata": {},
   "outputs": [
    {
     "data": {
      "text/plain": [
       "<matplotlib.image.AxesImage at 0x7fe9339460b0>"
      ]
     },
     "execution_count": 20,
     "metadata": {},
     "output_type": "execute_result"
    },
    {
     "data": {
      "image/png": "[encoded data removed]",
      "text/plain": [
       "<Figure size 640x480 with 1 Axes>"
      ]
     },
     "metadata": {},
     "output_type": "display_data"
    }
   ],
   "source": [
    "plt.imshow(attention[0, 1:, :])"
   ]
  },
  {
   "cell_type": "code",
   "execution_count": 21,
   "id": "871e338b-08e4-42e8-aa4b-4ab14139be53",
   "metadata": {},
   "outputs": [
    {
     "ename": "NameError",
     "evalue": "name 'pos_encoding' is not defined",
     "output_type": "error",
     "traceback": [
      "\u001b[0;31m---------------------------------------------------------------------------\u001b[0m",
      "\u001b[0;31mNameError\u001b[0m                                 Traceback (most recent call last)",
      "Cell \u001b[0;32mIn[21], line 1\u001b[0m\n\u001b[0;32m----> 1\u001b[0m plt\u001b[38;5;241m.\u001b[39mimshow(\u001b[43mpos_encoding\u001b[49m[\u001b[38;5;241m0\u001b[39m, :, :]\u001b[38;5;241m.\u001b[39mT)\n",
      "\u001b[0;31mNameError\u001b[0m: name 'pos_encoding' is not defined"
     ]
    }
   ],
   "source": [
    "plt.imshow(pos_encoding[0, :, :].T)"
   ]
  },
  {
   "cell_type": "code",
   "execution_count": null,
   "id": "48177428-43a2-43d9-bef0-2fd242724907",
   "metadata": {},
   "outputs": [],
   "source": []
  }
 ],
 "metadata": {
  "kernelspec": {
   "display_name": "Python 3 (ipykernel)",
   "language": "python",
   "name": "python3"
  },
  "language_info": {
   "codemirror_mode": {
    "name": "ipython",
    "version": 3
   },
   "file_extension": ".py",
   "mimetype": "text/x-python",
   "name": "python",
   "nbconvert_exporter": "python",
   "pygments_lexer": "ipython3",
   "version": "3.10.12"
  }
 },
 "nbformat": 4,
 "nbformat_minor": 5
}
