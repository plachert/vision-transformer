{
 "cells": [
  {
   "cell_type": "code",
   "execution_count": 24,
   "id": "b5c2e145-244b-4721-a80f-5157635648f2",
   "metadata": {},
   "outputs": [],
   "source": [
    "from src.model.classifier import ImageClassifier\n",
    "from src.model.architectures.visual_transformer import VisionTransformer\n",
    "import matplotlib.pyplot as plt\n",
    "import numpy as np\n",
    "import torch\n",
    "from src.data.datamodules import ImageNet100DataModule, CIFAR10DataModule\n",
    "from src.data.datasets import CIFAR10\n",
    "from sklearn.decomposition import PCA\n",
    "\n",
    "from src.data.transform import Patchify\n",
    "from torchvision import transforms\n",
    "\n",
    "def get_val_image(idx):\n",
    "    inference_transform = transforms.Compose([transforms.ToTensor(),\n",
    "                                         transforms.Normalize([0.49139968, 0.48215841, 0.44653091], [0.24703223, 0.24348513, 0.26158784]),\n",
    "                                         Patchify((4, 4)),\n",
    "                                         ])\n",
    "    dataset = CIFAR10(transform=inference_transform)\n",
    "    image = torch.unsqueeze(dataset[idx]['image'], 0)\n",
    "    return image\n",
    "\n",
    "def get_vit():\n",
    "    mock_factory = lambda x: x\n",
    "    m = VisionTransformer(\n",
    "        emb_dim=256, \n",
    "        flatten_patch_dim=4*4*3, \n",
    "        num_blocks=6, \n",
    "        num_heads=8, \n",
    "        num_patches=64, \n",
    "        num_classes=10, \n",
    "        dim_feedforward=512,\n",
    "        dropout=0.2,\n",
    "        )\n",
    "    classifier = ImageClassifier.load_from_checkpoint(\n",
    "        model=m, \n",
    "        optimizer_factory=mock_facktory, \n",
    "        num_classes=10, \n",
    "        checkpoint_path=\"/home/piotr/github/vision-transformer/logs/lightning_logs/version_0/checkpoints/epoch=99-step=35200.ckpt\",\n",
    "    )\n",
    "    classifier.eval()\n",
    "    return classifier.model\n",
    "\n",
    "\n",
    "def get_emb_projection(model):\n",
    "    return model.linear_projection.weight.detach().cpu().numpy().T"
   ]
  },
  {
   "cell_type": "code",
   "execution_count": 25,
   "id": "48177428-43a2-43d9-bef0-2fd242724907",
   "metadata": {},
   "outputs": [
    {
     "ename": "NameError",
     "evalue": "name 'mock_facktory' is not defined",
     "output_type": "error",
     "traceback": [
      "\u001b[0;31m---------------------------------------------------------------------------\u001b[0m",
      "\u001b[0;31mNameError\u001b[0m                                 Traceback (most recent call last)",
      "Cell \u001b[0;32mIn[25], line 1\u001b[0m\n\u001b[0;32m----> 1\u001b[0m model \u001b[38;5;241m=\u001b[39m \u001b[43mget_vit\u001b[49m\u001b[43m(\u001b[49m\u001b[43m)\u001b[49m\n\u001b[1;32m      2\u001b[0m emb_projection \u001b[38;5;241m=\u001b[39m get_emb_projection(model)\n\u001b[1;32m      3\u001b[0m pca \u001b[38;5;241m=\u001b[39m PCA(n_components\u001b[38;5;241m=\u001b[39m\u001b[38;5;241m25\u001b[39m)\n",
      "Cell \u001b[0;32mIn[24], line 36\u001b[0m, in \u001b[0;36mget_vit\u001b[0;34m()\u001b[0m\n\u001b[1;32m     23\u001b[0m mock_factory \u001b[38;5;241m=\u001b[39m \u001b[38;5;28;01mlambda\u001b[39;00m x: x\n\u001b[1;32m     24\u001b[0m m \u001b[38;5;241m=\u001b[39m VisionTransformer(\n\u001b[1;32m     25\u001b[0m     emb_dim\u001b[38;5;241m=\u001b[39m\u001b[38;5;241m256\u001b[39m, \n\u001b[1;32m     26\u001b[0m     flatten_patch_dim\u001b[38;5;241m=\u001b[39m\u001b[38;5;241m4\u001b[39m\u001b[38;5;241m*\u001b[39m\u001b[38;5;241m4\u001b[39m\u001b[38;5;241m*\u001b[39m\u001b[38;5;241m3\u001b[39m, \n\u001b[0;32m   (...)\u001b[0m\n\u001b[1;32m     32\u001b[0m     dropout\u001b[38;5;241m=\u001b[39m\u001b[38;5;241m0.2\u001b[39m,\n\u001b[1;32m     33\u001b[0m     )\n\u001b[1;32m     34\u001b[0m classifier \u001b[38;5;241m=\u001b[39m ImageClassifier\u001b[38;5;241m.\u001b[39mload_from_checkpoint(\n\u001b[1;32m     35\u001b[0m     model\u001b[38;5;241m=\u001b[39mm, \n\u001b[0;32m---> 36\u001b[0m     optimizer_factory\u001b[38;5;241m=\u001b[39m\u001b[43mmock_facktory\u001b[49m, \n\u001b[1;32m     37\u001b[0m     num_classes\u001b[38;5;241m=\u001b[39m\u001b[38;5;241m10\u001b[39m, \n\u001b[1;32m     38\u001b[0m     checkpoint_path\u001b[38;5;241m=\u001b[39m\u001b[38;5;124m\"\u001b[39m\u001b[38;5;124m/home/piotr/github/vision-transformer/logs/lightning_logs/version_0/checkpoints/epoch=99-step=35200.ckpt\u001b[39m\u001b[38;5;124m\"\u001b[39m,\n\u001b[1;32m     39\u001b[0m )\n\u001b[1;32m     40\u001b[0m classifier\u001b[38;5;241m.\u001b[39meval()\n\u001b[1;32m     41\u001b[0m \u001b[38;5;28;01mreturn\u001b[39;00m classifier\u001b[38;5;241m.\u001b[39mmodel\n",
      "\u001b[0;31mNameError\u001b[0m: name 'mock_facktory' is not defined"
     ]
    }
   ],
   "source": [
    "model = get_vit()\n",
    "emb_projection = get_emb_projection(model)\n",
    "pca = PCA(n_components=25)\n",
    "emb_pca = pca.fit_transform(emb_projection)"
   ]
  },
  {
   "cell_type": "code",
   "execution_count": 26,
   "id": "ecbc9e1e-3f22-4f98-8be7-4db35cdbc3cd",
   "metadata": {},
   "outputs": [
    {
     "data": {
      "text/plain": [
       "(48, 25)"
      ]
     },
     "execution_count": 26,
     "metadata": {},
     "output_type": "execute_result"
    }
   ],
   "source": [
    "emb_pca.shape"
   ]
  },
  {
   "cell_type": "code",
   "execution_count": 27,
   "id": "15da9bec-2c9f-4d0d-af41-fa58a3f41c81",
   "metadata": {},
   "outputs": [
    {
     "data": {
      "image/png": "[encoded data removed]",
      "text/plain": [
       "<Figure size 640x480 with 25 Axes>"
      ]
     },
     "metadata": {},
     "output_type": "display_data"
    }
   ],
   "source": [
    "fig, axs = plt.subplots(5, 5)\n",
    "axs = np.ravel(axs)\n",
    "for idx in range(len(axs)):\n",
    "    patch_flat = emb_pca[:, idx]\n",
    "    patch = np.reshape(patch_flat, (3, 4, 4)).T\n",
    "    axs[idx].imshow(patch[:, :, 0])"
   ]
  },
  {
   "cell_type": "code",
   "execution_count": 22,
   "id": "173e976d-45bb-4cf7-bddf-12885601fddf",
   "metadata": {},
   "outputs": [
    {
     "data": {
      "text/plain": [
       "(4, 4, 3)"
      ]
     },
     "execution_count": 22,
     "metadata": {},
     "output_type": "execute_result"
    }
   ],
   "source": [
    "patch.shape"
   ]
  },
  {
   "cell_type": "code",
   "execution_count": null,
   "id": "c8b3a282-9a63-42a5-a583-f18f7f846662",
   "metadata": {},
   "outputs": [],
   "source": []
  }
 ],
 "metadata": {
  "kernelspec": {
   "display_name": "Python 3 (ipykernel)",
   "language": "python",
   "name": "python3"
  },
  "language_info": {
   "codemirror_mode": {
    "name": "ipython",
    "version": 3
   },
   "file_extension": ".py",
   "mimetype": "text/x-python",
   "name": "python",
   "nbconvert_exporter": "python",
   "pygments_lexer": "ipython3",
   "version": "3.10.12"
  }
 },
 "nbformat": 4,
 "nbformat_minor": 5
}
